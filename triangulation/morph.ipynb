{
 "cells": [
  {
   "cell_type": "code",
   "execution_count": null,
   "metadata": {},
   "outputs": [],
   "source": [
    "import cv2 as cv\n",
    "import imageio\n",
    "import numpy as np"
   ]
  },
  {
   "cell_type": "code",
   "execution_count": null,
   "metadata": {},
   "outputs": [],
   "source": [
    "img1 = cv.imread(\"../data/banj_00_02/000_v0_origin.png\")\n",
    "img1 = cv.cvtColor(img1, cv.COLOR_BGR2RGB)\n",
    "\n",
    "img2 = cv.imread(\"../data/banj_00_02/000_v2_origin.png\")\n",
    "img2 = cv.cvtColor(img2, cv.COLOR_BGR2RGB)\n",
    "\n",
    "points1 = []\n",
    "points2 = []"
   ]
  },
  {
   "cell_type": "code",
   "execution_count": null,
   "metadata": {},
   "outputs": [],
   "source": [
    "def delaunay_triangulation():\n",
    "    # Create a rectangle that bounds the image\n",
    "    bounding_rect = (0, 0, img1.shape[1], img1.shape[0])\n",
    "\n",
    "    # Create a new Subdiv2D object using the bounding rectangle\n",
    "    subdiv = cv.Subdiv2D(bounding_rect)\n",
    "\n",
    "    # Insert the landmark points into the Subdiv2D object\n",
    "    subdiv.insert(points1)\n",
    "\n",
    "    # Get a list of triangles from the Subdiv2D object\n",
    "    triangle_list = subdiv.getTriangleList()\n",
    "\n",
    "    # Create a dictionary that maps each landmark point to its index in the points list\n",
    "    point_index_dict = {point: index for index, point in enumerate(points1)}\n",
    "\n",
    "    # Create a list of triangles where each triangle is represented as a list of three point indices\n",
    "    triangle_indices = []\n",
    "    for triangle in triangle_list:\n",
    "        # Extract the indices of the three points that make up the triangle\n",
    "        point_indices = (\n",
    "            point_index_dict[(triangle[0], triangle[1])],\n",
    "            point_index_dict[(triangle[2], triangle[3])],\n",
    "            point_index_dict[(triangle[4], triangle[5])],\n",
    "        )\n",
    "        triangle_indices.append(point_indices)\n",
    "\n",
    "    # Return the list of triangle indices\n",
    "    return triangle_indices"
   ]
  }
 ],
 "metadata": {
  "language_info": {
   "name": "python"
  }
 },
 "nbformat": 4,
 "nbformat_minor": 2
}
