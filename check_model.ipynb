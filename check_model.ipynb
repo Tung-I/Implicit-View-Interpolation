{
 "cells": [
  {
   "cell_type": "code",
   "execution_count": 1,
   "metadata": {},
   "outputs": [],
   "source": [
    "import torch\n",
    "import os\n",
    "import numpy as np"
   ]
  },
  {
   "cell_type": "code",
   "execution_count": 2,
   "metadata": {},
   "outputs": [],
   "source": [
    "def check_module_shape(model, mod_name):\n",
    "    for k, v in model.items():\n",
    "        if mod_name in k: \n",
    "            print(f\"key: {k}\")\n",
    "            print(f\"Shape: {v.size()}\")"
   ]
  },
  {
   "cell_type": "code",
   "execution_count": 4,
   "metadata": {},
   "outputs": [],
   "source": [
    "my_im1 = torch.load(os.path.join(os.getcwd(), 'output/NIM/banjo_v02/checkpoints/model_best.pth')) "
   ]
  },
  {
   "cell_type": "code",
   "execution_count": 5,
   "metadata": {},
   "outputs": [
    {
     "name": "stdout",
     "output_type": "stream",
     "text": [
      "dict_keys(['net', 'optimizer', 'lr_scheduler', 'monitor', 'epoch', 'random_state', 'np_random_seeds'])\n"
     ]
    }
   ],
   "source": [
    "print(my_im1.keys())"
   ]
  },
  {
   "cell_type": "code",
   "execution_count": 14,
   "metadata": {},
   "outputs": [
    {
     "name": "stdout",
     "output_type": "stream",
     "text": [
      "key: net.0.0.weight\n",
      "Shape: torch.Size([256, 2])\n",
      "key: net.1.0.weight\n",
      "Shape: torch.Size([256, 256])\n",
      "key: net.2.0.weight\n",
      "Shape: torch.Size([256, 256])\n",
      "key: net.3.0.weight\n",
      "Shape: torch.Size([3, 256])\n"
     ]
    }
   ],
   "source": [
    "check_module_shape(im1_siren, 'weight')"
   ]
  },
  {
   "cell_type": "code",
   "execution_count": 15,
   "metadata": {},
   "outputs": [
    {
     "name": "stdout",
     "output_type": "stream",
     "text": [
      "key: net.0.0.bias\n",
      "Shape: torch.Size([256])\n",
      "key: net.1.0.bias\n",
      "Shape: torch.Size([256])\n",
      "key: net.2.0.bias\n",
      "Shape: torch.Size([256])\n",
      "key: net.3.0.bias\n",
      "Shape: torch.Size([3])\n"
     ]
    }
   ],
   "source": [
    "check_module_shape(im1_siren, 'bias')"
   ]
  },
  {
   "cell_type": "code",
   "execution_count": 16,
   "metadata": {},
   "outputs": [],
   "source": [
    "n_parameters = 2*256 + 256*256 + 256*256 + 256*3 + 256*3 +3"
   ]
  },
  {
   "cell_type": "code",
   "execution_count": 17,
   "metadata": {},
   "outputs": [
    {
     "name": "stdout",
     "output_type": "stream",
     "text": [
      "Byte per image: 532492\n"
     ]
    }
   ],
   "source": [
    "byte_per_im = 4*n_parameters\n",
    "print(f\"Byte per image: {byte_per_im}\")"
   ]
  },
  {
   "cell_type": "code",
   "execution_count": null,
   "metadata": {},
   "outputs": [],
   "source": []
  },
  {
   "cell_type": "code",
   "execution_count": 20,
   "metadata": {},
   "outputs": [],
   "source": [
    "im1_siren = torch.load(os.path.join(os.getcwd(), 'pretrained//001_03.pth')) "
   ]
  },
  {
   "cell_type": "code",
   "execution_count": 24,
   "metadata": {},
   "outputs": [
    {
     "name": "stdout",
     "output_type": "stream",
     "text": [
      "[[-0.0390625, -0.3203125], [0.05078125, -0.3046875], [0.1328125, -0.2890625], [0.21484375, -0.26953125], [0.29296875, -0.2421875], [0.36328125, -0.19921875], [0.421875, -0.140625], [0.46875, -0.07421875], [0.4765625, 0.0078125], [0.46484375, 0.09375], [0.41796875, 0.16796875], [0.359375, 0.23046875], [0.29296875, 0.28125], [0.2109375, 0.30859375], [0.12109375, 0.3203125], [0.03515625, 0.3359375], [-0.0546875, 0.34765625], [-0.13671875, -0.29296875], [-0.1796875, -0.2578125], [-0.19140625, -0.203125], [-0.18359375, -0.1484375], [-0.16015625, -0.09375], [-0.16796875, 0.0546875], [-0.19921875, 0.11328125], [-0.21484375, 0.17578125], [-0.19921875, 0.23828125], [-0.15625, 0.28515625], [-0.08203125, -0.015625], [-0.0234375, -0.01953125], [0.03515625, -0.01953125], [0.09765625, -0.01953125], [0.14453125, -0.07421875], [0.15234375, -0.04296875], [0.16015625, -0.015625], [0.15234375, 0.01953125], [0.14453125, 0.046875], [-0.05078125, -0.2265625], [-0.078125, -0.19140625], [-0.07421875, -0.14453125], [-0.046875, -0.1015625], [-0.03515625, -0.14453125], [-0.03125, -0.1953125], [-0.0546875, 0.0859375], [-0.08984375, 0.12890625], [-0.08984375, 0.17578125], [-0.06640625, 0.21484375], [-0.04296875, 0.1796875], [-0.046875, 0.1328125], [0.265625, -0.125], [0.24609375, -0.08203125], [0.234375, -0.04296875], [0.2421875, -0.01171875], [0.23046875, 0.0234375], [0.2421875, 0.06640625], [0.2578125, 0.12109375], [0.29296875, 0.07421875], [0.30859375, 0.02734375], [0.3125, -0.0078125], [0.3125, -0.0390625], [0.30078125, -0.078125], [0.26953125, -0.1015625], [0.26953125, -0.0390625], [0.26953125, -0.01171875], [0.265625, 0.0234375], [0.26171875, 0.09765625], [0.26171875, 0.0234375], [0.26953125, -0.0078125], [0.265625, -0.0390625]]\n"
     ]
    }
   ],
   "source": [
    "print(lmdict.tolist())"
   ]
  },
  {
   "cell_type": "code",
   "execution_count": null,
   "metadata": {},
   "outputs": [],
   "source": []
  }
 ],
 "metadata": {
  "kernelspec": {
   "display_name": "gaussians",
   "language": "python",
   "name": "python3"
  },
  "language_info": {
   "codemirror_mode": {
    "name": "ipython",
    "version": 3
   },
   "file_extension": ".py",
   "mimetype": "text/x-python",
   "name": "python",
   "nbconvert_exporter": "python",
   "pygments_lexer": "ipython3",
   "version": "3.9.19"
  }
 },
 "nbformat": 4,
 "nbformat_minor": 2
}
